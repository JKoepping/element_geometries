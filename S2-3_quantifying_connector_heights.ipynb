{
 "cells": [
  {
   "cell_type": "code",
   "execution_count": 1,
   "metadata": {
    "ExecuteTime": {
     "end_time": "2020-12-02T06:17:51.027734Z",
     "start_time": "2020-12-02T06:17:50.189493Z"
    }
   },
   "outputs": [],
   "source": [
    "import numpy as np\n",
    "import pandas as pd\n",
    "import matplotlib.pyplot as plt"
   ]
  },
  {
   "cell_type": "code",
   "execution_count": 2,
   "metadata": {
    "ExecuteTime": {
     "end_time": "2020-12-02T06:17:51.034194Z",
     "start_time": "2020-12-02T06:17:51.029930Z"
    },
    "code_folding": [
     0
    ]
   },
   "outputs": [],
   "source": [
    "## change font for plots\n",
    "import matplotlib\n",
    "from matplotlib import rc\n",
    "matplotlib.rcParams['pdf.fonttype'] = 42 # to import text in illustrator\n",
    "matplotlib.rcParams['ps.fonttype'] = 42\n",
    "rc('font',**{'family':'serif','serif':['Arial']})\n",
    "\n",
    "SMALL_SIZE = 8\n",
    "MEDIUM_SIZE = 10\n",
    "\n",
    "plt.rc('axes', titlesize=SMALL_SIZE)     # fontsize of the axes title\n",
    "plt.rc('axes', labelsize=MEDIUM_SIZE)    # fontsize of the x and y labels\n",
    "plt.rc('xtick', labelsize=SMALL_SIZE)    # fontsize of the tick labels\n",
    "plt.rc('ytick', labelsize=SMALL_SIZE)    # fontsize of the tick labels\n",
    "plt.rc('legend', fontsize=SMALL_SIZE)    # legend fontsize"
   ]
  },
  {
   "cell_type": "code",
   "execution_count": 3,
   "metadata": {
    "ExecuteTime": {
     "end_time": "2020-12-02T06:17:51.041986Z",
     "start_time": "2020-12-02T06:17:51.037763Z"
    },
    "code_folding": [
     0
    ]
   },
   "outputs": [],
   "source": [
    "## define cm2inch for plot size\n",
    "def cm2inch(*tupl): # cm to inch for figure size\n",
    "    inch = 2.54\n",
    "    if isinstance(tupl[0], tuple):\n",
    "        return tuple(i/inch for i in tupl[0])\n",
    "    else:\n",
    "        return tuple(i/inch for i in tupl)"
   ]
  },
  {
   "cell_type": "code",
   "execution_count": 4,
   "metadata": {
    "ExecuteTime": {
     "end_time": "2020-12-02T06:17:51.048403Z",
     "start_time": "2020-12-02T06:17:51.045175Z"
    },
    "code_folding": [
     0
    ]
   },
   "outputs": [],
   "source": [
    "## write mupltiple panda dataframes to excel\n",
    "# from https://stackoverflow.com/questions/32957441/putting-many-python-pandas-dataframes-to-one-excel-worksheet\n",
    "def dfs_tabs(df_list, sheet_list, file_name):\n",
    "    writer = pd.ExcelWriter(file_name,engine='xlsxwriter')   \n",
    "    for dataframe, sheet in zip(df_list, sheet_list):\n",
    "        dataframe.to_excel(writer, sheet_name=sheet, startrow=0 , startcol=0)   \n",
    "    writer.save()"
   ]
  },
  {
   "cell_type": "markdown",
   "metadata": {},
   "source": [
    "# Time-Depth-Conversion\n",
    "Here, we use multiple wells to calculate the time-depth conversion. For highest accuracy, we use different wells for sill S1 and S2."
   ]
  },
  {
   "cell_type": "code",
   "execution_count": 5,
   "metadata": {
    "ExecuteTime": {
     "end_time": "2020-12-02T06:17:51.535924Z",
     "start_time": "2020-12-02T06:17:51.050756Z"
    },
    "code_folding": [
     0
    ]
   },
   "outputs": [],
   "source": [
    "## import checkshot data from excel sheet\n",
    "input_path   = '/Users/Suppl3_quantifying_connectors_heights/checkshot_data.xlsx'\n",
    "\n",
    "toporoa      = pd.read_excel(input_path, sheet_name=0)\n",
    "briseis      = pd.read_excel(input_path, sheet_name=1)\n",
    "glencoe1     = pd.read_excel(input_path, sheet_name=2)\n",
    "chester1_st1 = pd.read_excel(input_path, sheet_name=4)\n",
    "makybe_diva1 = pd.read_excel(input_path, sheet_name=5)\n",
    "hijinx1      = pd.read_excel(input_path, sheet_name=6)\n",
    "lightfinger1 = pd.read_excel(input_path, sheet_name=7)\n",
    "nimblefoot   = pd.read_excel(input_path, sheet_name=8)"
   ]
  },
  {
   "cell_type": "code",
   "execution_count": 6,
   "metadata": {
    "ExecuteTime": {
     "end_time": "2020-12-02T06:17:51.545307Z",
     "start_time": "2020-12-02T06:17:51.538355Z"
    },
    "code_folding": [
     0
    ]
   },
   "outputs": [],
   "source": [
    "## merge wells for specific areas\n",
    "# S1\n",
    "MD_S1  = -np.concatenate((chester1_st1['MD'].values, makybe_diva1['MD'].values, \n",
    "                        hijinx1['MD'].values, lightfinger1['MD'].values, nimblefoot['MD'].values)) # measured depth [m]\n",
    "TWT_S1 = np.concatenate((chester1_st1['TWT'].values, makybe_diva1['TWT'].values, \n",
    "                        hijinx1['TWT'].values, lightfinger1['TWT'].values, nimblefoot['TWT'].values)) # two-way-travel time [ms]\n",
    "\n",
    "# S2\n",
    "MD_S2  = -np.concatenate((toporoa['MD'].values, briseis['MD'].values, glencoe1['MD'].values)) # measured depth [m]\n",
    "TWT_S2 = np.concatenate((toporoa['TWT'].values, briseis['TWT'].values, glencoe1['TWT'].values)) # two-way-travel time [ms]"
   ]
  },
  {
   "cell_type": "code",
   "execution_count": 7,
   "metadata": {
    "ExecuteTime": {
     "end_time": "2020-12-02T06:17:51.554777Z",
     "start_time": "2020-12-02T06:17:51.548696Z"
    },
    "code_folding": [
     0
    ]
   },
   "outputs": [],
   "source": [
    "## polynomial regression\n",
    "# S1\n",
    "p_S1  = np.polyfit(TWT_S1, MD_S1, 2, full=True)\n",
    "MD_S1_fit = np.polyval(p_S1[0], TWT_S1)\n",
    "\n",
    "# S2\n",
    "p_S2  = np.polyfit(TWT_S2, MD_S2, 2, full=True)\n",
    "MD_S2_fit = np.polyval(p_S2[0], TWT_S2)"
   ]
  },
  {
   "cell_type": "code",
   "execution_count": 8,
   "metadata": {
    "ExecuteTime": {
     "end_time": "2020-12-02T06:17:51.567088Z",
     "start_time": "2020-12-02T06:17:51.561068Z"
    },
    "code_folding": [
     0
    ]
   },
   "outputs": [],
   "source": [
    "## sort data\n",
    "# S1\n",
    "TWT_S1_sort = sorted(TWT_S1)\n",
    "MD_S1_fit_sort = sorted(MD_S1_fit, reverse=True)\n",
    "MD_S1_sort = sorted(MD_S1, reverse=True)\n",
    "\n",
    "# S2\n",
    "TWT_S2_sort = sorted(TWT_S2)\n",
    "MD_S2_fit_sort = sorted(MD_S2_fit, reverse=True)\n",
    "MD_S2_sort = sorted(MD_S2, reverse=True)"
   ]
  },
  {
   "cell_type": "code",
   "execution_count": 9,
   "metadata": {
    "ExecuteTime": {
     "end_time": "2020-12-02T06:17:51.581663Z",
     "start_time": "2020-12-02T06:17:51.571171Z"
    },
    "code_folding": [
     0
    ]
   },
   "outputs": [],
   "source": [
    "## fit accuracy\n",
    "# S1\n",
    "# correlation coefficient\n",
    "correlation_matrix = np.corrcoef(MD_S1_fit_sort, MD_S1_sort) # compare MD1_sort (depth in m from regression), with MD_sel_sort (depth in m from checkshots)\n",
    "correlation_xy = correlation_matrix[0,1]\n",
    "r_squared_S1 = correlation_xy**2\n",
    "\n",
    "# Root Mean Square Error (RMSE)\n",
    "RMSE_S1 = np.sqrt(((MD_S1 - MD_S1_fit) ** 2).mean())\n",
    "\n",
    "# S2\n",
    "# correlation coefficient\n",
    "correlation_matrix = np.corrcoef(MD_S2_fit_sort, MD_S2_sort) # compare MD1_sort (depth in m from regression), with MD_sel_sort (depth in m from checkshots)\n",
    "correlation_xy = correlation_matrix[0,1]\n",
    "r_squared_S2 = correlation_xy**2\n",
    "\n",
    "# Root Mean Square Error (RMSE)\n",
    "RMSE_S2 = np.sqrt(((MD_S2 - MD_S2_fit) ** 2).mean())"
   ]
  },
  {
   "cell_type": "code",
   "execution_count": 10,
   "metadata": {
    "ExecuteTime": {
     "end_time": "2020-12-02T06:17:51.592114Z",
     "start_time": "2020-12-02T06:17:51.587455Z"
    },
    "code_folding": [
     0
    ]
   },
   "outputs": [],
   "source": [
    "## calculate time-depth conversion from 1000-5500 [m] depth\n",
    "\n",
    "TWT      = np.linspace(1500, 8000, 1500)\n",
    "depth_S1 = np.polyval(p_S1[0], TWT)\n",
    "depth_S2 = np.polyval(p_S2[0], TWT)"
   ]
  },
  {
   "cell_type": "code",
   "execution_count": 11,
   "metadata": {
    "ExecuteTime": {
     "end_time": "2020-12-02T06:17:52.452427Z",
     "start_time": "2020-12-02T06:17:51.596454Z"
    },
    "code_folding": [
     0
    ],
    "scrolled": true
   },
   "outputs": [
    {
     "data": {
      "image/png": "[encoded data removed]",
      "text/plain": [
       "<Figure size 524.409x283.465 with 2 Axes>"
      ]
     },
     "metadata": {
      "needs_background": "light"
     },
     "output_type": "display_data"
    }
   ],
   "source": [
    "## plot\n",
    "fig1, axs = plt.subplots(1,2, figsize=cm2inch(18.5,10))\n",
    "\n",
    "# S1\n",
    "ax=axs[0]\n",
    "ax.scatter(chester1_st1['TWT'].values, chester1_st1['MD'].values, \n",
    "           facecolor='b', marker = 'o', s=20, alpha=0.5, edgecolors='none', label='Chester1-ST1')\n",
    "ax.scatter(hijinx1['TWT'].values, hijinx1['MD'].values, \n",
    "           facecolor='r', marker = 'o', s=20, alpha=0.5, edgecolors='none', label='Hijinx-1')\n",
    "ax.scatter(nimblefoot['TWT'].values, nimblefoot['MD'].values, \n",
    "           facecolor='k', marker = 'o', s=20, alpha=0.5, edgecolors='none', label='Nimblefoot-1')\n",
    "ax.scatter(makybe_diva1['TWT'].values, makybe_diva1['MD'].values, \n",
    "           facecolor='g', marker = 'o', s=20, alpha=0.5, edgecolors='none', label='Makybe-Diva-1')\n",
    "ax.scatter(lightfinger1['TWT'].values, lightfinger1['MD'].values, \n",
    "           facecolor='orange', marker = 'o', s=20, alpha=0.5, edgecolors='none', label='Lightfinger-1')\n",
    "\n",
    "ax.plot(TWT, -depth_S1, 'r--', lw=2, label = 'polynomial fit')\n",
    "\n",
    "ax.fill_between(np.array((0,5000)), 3865, 4838,\n",
    "                color='r',linewidth=0, alpha=0.3, zorder=0, label='area of interest')\n",
    "\n",
    "\n",
    "# annotation\n",
    "ax.text(200, 350, '$ 3.466e^{-4}x^2 - 4.559e^{-1}x + 1.115e^3 $', fontsize=8)\n",
    "ax.text(200, 650, 'R = ' + str(\"%.3f\" % r_squared_S1), fontsize=9)\n",
    "\n",
    "ax.set_ylim(0,5500)\n",
    "ax.set_xlim(0,5000)\n",
    "\n",
    "ax.set(ylabel='depth [m]')\n",
    "ax.set(xlabel='TWT [ms]')\n",
    "ax.set_title('a. Sill 1', size=12, x=0.1) # Title\n",
    "ax.legend(loc='lower left')\n",
    "\n",
    "ax.set_ylim(ax.get_ylim()[::-1])        # invert the axis\n",
    "ax.xaxis.tick_top()                     # and move the X-Axis \n",
    "ax.xaxis.set_label_position(\"top\")\n",
    "\n",
    "\n",
    "\n",
    "\n",
    "# S2\n",
    "ax=axs[1]\n",
    "\n",
    "ax.scatter(briseis['TWT'].values, briseis['MD'].values, \n",
    "           facecolor='g', marker = 'o', s=20, alpha=0.5, edgecolors='none', label='Briseis-1')\n",
    "ax.scatter(glencoe1['TWT'].values, glencoe1['MD'].values, \n",
    "           facecolor='orange', marker = 'o', s=20, alpha=0.5, edgecolors='none', label='Glencoe-1')\n",
    "ax.scatter(toporoa['TWT'].values, toporoa['MD'].values, \n",
    "           facecolor='b', marker = 'o', s=20, alpha=0.5, edgecolors='none', label='Toporoa-1')\n",
    "\n",
    "ax.plot(TWT, -depth_S2, 'r--', lw=2, label = 'polynomial fit')\n",
    "\n",
    "ax.fill_between(np.array((0,5000)), 3303, 4029,\n",
    "                color='r',linewidth=0, alpha=0.3, zorder=0, label='area of interest')\n",
    "\n",
    "# annotation\n",
    "ax.text(200, 350, '$ 2.106e^{-4}x^2 + 8.580e^{-2}x + 5.761e^2 $', fontsize=8)\n",
    "ax.text(200, 650, 'R = ' + str(\"%.3f\" % r_squared_S2), fontsize=9)\n",
    "\n",
    "ax.set_ylim(0,5500)\n",
    "ax.set_xlim(0,5000)\n",
    "\n",
    "ax.set(xlabel='TWT [ms]')\n",
    "ax.set(ylabel='depth [m]')\n",
    "ax.set_title('b. Sill 2', size=12, x=0.1) # Title\n",
    "ax.legend(loc='lower left')\n",
    "\n",
    "ax.set_ylim(ax.get_ylim()[::-1])        # invert the axis\n",
    "ax.xaxis.tick_top()                    # and move the X-Axis \n",
    "ax.xaxis.set_label_position(\"top\")\n",
    "\n",
    "fig1.tight_layout()"
   ]
  },
  {
   "cell_type": "markdown",
   "metadata": {},
   "source": [
    "# Quantifying vertical offsets between neighbouring elements\n",
    "### Create arrays with vertical offsets: \n",
    "[ID, max (or) min offset [m], element length at offset [m], max element length [m], length / max length]\n",
    "\n",
    "Note that the element length is measured from the most inward part of the connector (0 m) towards the propagating tip (max element length)."
   ]
  },
  {
   "cell_type": "code",
   "execution_count": 12,
   "metadata": {
    "ExecuteTime": {
     "end_time": "2020-12-02T06:17:52.457905Z",
     "start_time": "2020-12-02T06:17:52.454561Z"
    }
   },
   "outputs": [],
   "source": [
    "import_path = '/Users/Suppl3_quantifying_connectors_heights/3_Vertical_connector_height.xlsx'\n",
    "save_path = '/Users/Suppl3_quantifying_connectors_heights/'\n",
    "save = 0  # save file? 0 = no, 1 = yes"
   ]
  },
  {
   "cell_type": "code",
   "execution_count": 13,
   "metadata": {
    "ExecuteTime": {
     "end_time": "2020-12-02T06:18:00.288533Z",
     "start_time": "2020-12-02T06:17:52.460507Z"
    },
    "code_folding": [
     0,
     44,
     45,
     101
    ]
   },
   "outputs": [],
   "source": [
    "## batch process\n",
    "\n",
    "v_offs_max = np.zeros((1,8)) # [ID, max (or) min offset [m], error1, error2, elements length at offset [m], max element length [m], length / max length]\n",
    "v_offs_min = np.zeros((1,8)) # [ID, max (or) min offset [m], error1, error2, elements length at offset [m], max element length [m], length / max length]\n",
    "\n",
    "## import file\n",
    "xl = pd.ExcelFile(import_path)\n",
    "res = len(xl.sheet_names) # number of sheets\n",
    "\n",
    "for k in range(0,res):\n",
    "    \n",
    "    ## import excel files\n",
    "    data    = pd.read_excel(import_path, sheet_name=k)\n",
    "    length  = data['length'].values # length [m]\n",
    "    connect = data['connected'].values # are both elements connected? [0 = no; 1 = yes]\n",
    "    fault   = data['fault'].values # pre-existing fault between element? [0 = no; 1 = yes]\n",
    "    TWT_top = data['top_TWT'].values # top TWT measurement [ms]\n",
    "    TWT_bot = data['bottom_TWT'].values # bottom TWT measurement [ms]\n",
    "    \n",
    "    ## calculate vertical offset TWT of upper and lower element (based on time-depth conversion)\n",
    "    E1      = np.zeros_like(TWT_top) # empty array --> depth [m] of upper element\n",
    "    E1_err1 = np.zeros_like(E1) # empty array --> estimate error of E1 --> TWT-2ms\n",
    "    E1_err2 = np.zeros_like(E1) # empty array --> estimate error of E1 --> TWT+2ms\n",
    "    E2      = np.zeros_like(TWT_top) # empty array --> depth [m] of lower element  \n",
    "    E2_err1 = np.zeros_like(E2) # empty array --> estimate error of E2 --> TWT-2ms\n",
    "    E2_err2 = np.zeros_like(E2) # empty array --> estimate error of E2 --> TWT+2ms\n",
    "    v_offs  = np.zeros_like(TWT_top) # empty array to store vertical offset measurements\n",
    "    \n",
    "    err_TWT = 4 # [ms]; +- err_TWT to TWT measurements\n",
    "    \n",
    "    for j in range(0,len(TWT_top)):\n",
    "        E1[j]      = np.abs(p_S1[0][0] * TWT_top[j]**2 + p_S1[0][1] * TWT_top[j] + p_S1[0][2]) # depth [m] of upper element\n",
    "        E1_err1[j] = np.abs(p_S1[0][0] * (TWT_top[j]-err_TWT)**2 + p_S1[0][1] * (TWT_top[j]-err_TWT) + p_S1[0][2]) # depth [m] of upper element--> TWT-err_TWT ms to estimate error\n",
    "        E1_err2[j] = np.abs(p_S1[0][0] * (TWT_top[j]+err_TWT)**2 + p_S1[0][1] * (TWT_top[j]+err_TWT) + p_S1[0][2]) # depth [m] of upper element --> TWT+err_TWT ms to estimate error\n",
    "    \n",
    "        E2[j]      = np.abs(p_S1[0][0] * TWT_bot[j]**2 + p_S1[0][1] * TWT_bot[j] + p_S1[0][2]) # depth [m] of lower element\n",
    "        E2_err1[j] = np.abs(p_S1[0][0] * (TWT_bot[j]-err_TWT)**2 + p_S1[0][1] * (TWT_bot[j]-err_TWT) + p_S1[0][2]) # depth [m] of upper element--> TWT-err_TWT ms to estimate error\n",
    "        E2_err2[j] = np.abs(p_S1[0][0] * (TWT_bot[j]+err_TWT)**2 + p_S1[0][1] * (TWT_bot[j]+err_TWT) + p_S1[0][2]) # depth [m] of upper element --> TWT+err_TWT ms to estimate error\n",
    "    \n",
    "    v_offs = E2-E1 # vertical offset measurements [m]\n",
    "    \n",
    "\n",
    "    ## sum up element's length\n",
    "    length_tot = np.zeros(len(length))\n",
    "    for i in range(0,len(length)):\n",
    "        if i == 0:\n",
    "            length_tot[i] = length[i]\n",
    "        else:\n",
    "            length_tot[i] = length_tot[i-1]+length[i]\n",
    "            \n",
    "    ## min & max offsets\n",
    "    max_voffs = np.amax(v_offs)\n",
    "    min_voffs = np.amin(v_offs)\n",
    "\n",
    "\n",
    "    ## position of min & max offset\n",
    "    ind1 = np.where(v_offs == max_voffs)   # ind max vertical offset\n",
    "    ind2 = np.where(v_offs == min_voffs)   # ind min vertical offset\n",
    "    \n",
    "    \n",
    "    ## estimate error\n",
    "    # max offset\n",
    "    max_err1 = E2_err1[ind1] - E1_err2[ind1] # lower boundary --> smaller offset\n",
    "    max_err2 = E2_err2[ind1] - E1_err1[ind1] # upper boundary --> larger offset\n",
    "    \n",
    "    # min offset\n",
    "    min_err1 = E2_err1[ind2] - E1_err2[ind2] # lower boundary --> smaller offset\n",
    "    min_err2 = E2_err2[ind2] - E1_err1[ind2] # upper boundary --> larger offset\n",
    "    \n",
    "    \n",
    "    \n",
    "    ## max length at max & min offset\n",
    "    max_voffs_l = length_tot[ind1]\n",
    "    min_voffs_l = length_tot[ind2]\n",
    "\n",
    "    max_voffs_rl = max_voffs_l/length_tot[-1]\n",
    "    min_voffs_rl = min_voffs_l/length_tot[-1]\n",
    "\n",
    "\n",
    "    \n",
    "    ## create arrays with data\n",
    "    \n",
    "    # max vertical offset\n",
    "    v_offs_max1 = np.ones((len(ind1[0]),8))\n",
    "    \n",
    "    for j in range(0,len(ind1[0])):\n",
    "        v_offs_max1[j][0] = k\n",
    "        v_offs_max1[j][1] = max_voffs                        # max vertical offset\n",
    "        v_offs_max1[j][2] = np.abs(max_voffs-max_err1[j])    # estimated error; lower boundary\n",
    "        v_offs_max1[j][3] = np.abs(max_voffs-max_err2[j])    # estimated error; upper boundary\n",
    "        v_offs_max1[j][4] = max_voffs_l[j]                   # element length at max vertical offset\n",
    "        v_offs_max1[j][5] = length_tot[-1]                   # max length of the element\n",
    "        v_offs_max1[j][6] = max_voffs_l[j] / length_tot[-1]  # length / max length\n",
    "        v_offs_max1[j][7] = fault[0]                         # fault; 0 = no, 1 = yes \n",
    "        \n",
    "    v_offs_max = np.append(v_offs_max, v_offs_max1, axis=0)\n",
    "    \n",
    "    \n",
    "    # min vertical offset\n",
    "    v_offs_min1 = np.ones((len(ind2[0]),8))\n",
    "    \n",
    "    for j in range(0,len(ind2[0])):\n",
    "        v_offs_min1[j][0] = k\n",
    "        v_offs_min1[j][1] = min_voffs                        # min vertical offset\n",
    "        v_offs_min1[j][2] = np.abs(min_voffs-min_err1[j])    # estimated error; lower boundary\n",
    "        v_offs_min1[j][3] = np.abs(min_voffs-min_err2[j])    # estimated error; upper boundary\n",
    "        v_offs_min1[j][4] = min_voffs_l[j]                   # segment length at min vertical offset\n",
    "        v_offs_min1[j][5] = length_tot[-1]                   # total length of the segment\n",
    "        v_offs_min1[j][6] = min_voffs_l[j] / length_tot[-1]  # length / total length\n",
    "        v_offs_min1[j][7] = fault[0]                         # fault; 0 = no, 1 = yes\n",
    "        \n",
    "    v_offs_min = np.append(v_offs_min, v_offs_min1, axis=0)\n",
    "    \n",
    "v_offs_max = np.delete(v_offs_max, (0), axis=0)\n",
    "v_offs_min = np.delete(v_offs_min, (0), axis=0)"
   ]
  },
  {
   "cell_type": "code",
   "execution_count": 14,
   "metadata": {
    "ExecuteTime": {
     "end_time": "2020-12-02T06:18:00.459487Z",
     "start_time": "2020-12-02T06:18:00.291736Z"
    },
    "code_folding": [
     0
    ]
   },
   "outputs": [],
   "source": [
    "## export data as *.xlsx\n",
    "# maximum vertical offset\n",
    "df_offs_max = pd.DataFrame(v_offs_max)\n",
    "df_offs_max = df_offs_max.rename(columns={0:'ID', 1:'max offset (m)', 2:'error lower boundary', 3:'error upper boundary', 4:'element length (m) at max vertical offset', 5:'max element length (m)', 6:'length at max offset / max langth', 7:'fault'})\n",
    "\n",
    "# maximum vertical offset\n",
    "df_offs_min = pd.DataFrame(v_offs_min)\n",
    "df_offs_min = df_offs_min.rename(columns={0:'ID', 1:'min offset (m)', 2:'error lower boundary', 3:'error upper boundary', 4:'element length (m) at min vertical offset', 5:'max element length (m)', 6:'length at min offset / max langth', 7:'fault'})\n",
    "\n",
    "for i in range (res): # replace ID with connector name used in QGIS project\n",
    "    df_offs_max['ID'][df_offs_max['ID'].values == i] = xl.sheet_names[i]\n",
    "    df_offs_min['ID'][df_offs_min['ID'].values == i] = xl.sheet_names[i]\n",
    "\n",
    "# write dataframes to *.xlsx\n",
    "dfs = [df_offs_max, df_offs_min]\n",
    "sheets =['max vertical connector height', 'min vertical connector height']\n",
    "dfs_tabs(dfs, sheets, save_path + '3_Vertical_connector_heigth_fig7.xlsx')"
   ]
  },
  {
   "cell_type": "markdown",
   "metadata": {},
   "source": [
    "# Fig. 7 - Plot maximum and minimum vertical offsets vs. the offset location along the connector\n",
    "Note that a location of 0 represents the most inward part of the connector, whereas 1 represents the tip of the connector."
   ]
  },
  {
   "cell_type": "code",
   "execution_count": 15,
   "metadata": {
    "ExecuteTime": {
     "end_time": "2020-12-02T06:18:00.894414Z",
     "start_time": "2020-12-02T06:18:00.461117Z"
    },
    "code_folding": [
     0
    ]
   },
   "outputs": [
    {
     "data": {
      "image/png": "[encoded data removed]",
      "text/plain": [
       "<Figure size 255.118x170.079 with 3 Axes>"
      ]
     },
     "metadata": {
      "needs_background": "light"
     },
     "output_type": "display_data"
    }
   ],
   "source": [
    "## maximum vertical offset\n",
    "## separate dataset: fault/no fault\n",
    "ind_f  = np.where(v_offs_max[:,7] == 1) # entries with fault\n",
    "ind_nf = np.where(v_offs_max[:,7] == 0) # entries without fault\n",
    "\n",
    "y_error_f  = [v_offs_max[ind_f,2][0],v_offs_max[ind_f,3][0]]   # error faults\n",
    "y_error_nf = [v_offs_max[ind_nf,2][0],v_offs_max[ind_nf,3][0]] # error no faults\n",
    "\n",
    "m = ['d', '.'] # marker\n",
    "ms = [5, 15] # marker size\n",
    "colour = ['royalblue', 'firebrick', 'gray'] # marker colour\n",
    "\n",
    "\n",
    "## figure\n",
    "fig = plt.figure(figsize=cm2inch(9,6))\n",
    "\n",
    "scatter_axes = plt.subplot2grid((3, 3), (1, 0), rowspan=2, colspan=2)\n",
    "x_hist_axes = plt.subplot2grid((3, 3), (0, 0), colspan=2)\n",
    "y_hist_axes = plt.subplot2grid((3, 3), (1, 2), rowspan=2)\n",
    "\n",
    "x_hist_axes.set_title('A. Max vertical offset', loc='left')\n",
    "\n",
    "# plot scatter and error bars of connectors without faults\n",
    "scatter_axes.scatter(v_offs_max[ind_nf,6],v_offs_max[ind_nf,1], zorder = 1, c=colour[0], marker=m[0], s=ms[0], label='no fault', linestyle = 'None') #red\n",
    "scatter_axes.errorbar(v_offs_max[ind_nf,6][0], v_offs_max[ind_nf,1][0], yerr=y_error_nf,\n",
    "            fmt='none', ecolor='k', elinewidth=1, capsize=2, capthick=1, barsabove=False, zorder=0)\n",
    "\n",
    "# plot scatter and error bars of connectors with faults\n",
    "scatter_axes.scatter(v_offs_max[ind_f,6],v_offs_max[ind_f,1], zorder = 3, c=colour[1], marker = m[1], s=ms[1], label='fault', linestyle = 'None') #red\n",
    "scatter_axes.errorbar(v_offs_max[ind_f,6][0], v_offs_max[ind_f,1][0], yerr=y_error_f,\n",
    "            fmt='none', ecolor='k', elinewidth=1, capsize=2, capthick=1, barsabove=False, zorder=2)\n",
    "\n",
    "# histograms\n",
    "x_hist_axes.hist(v_offs_max[:,6], bins=10, range=(0,1), color=colour[2], alpha=0.6)\n",
    "y_hist_axes.hist(v_offs_max[:,1], bins=range(0, 300, 25), orientation='horizontal', color=colour[2], alpha=0.6)\n",
    "\n",
    "# set axes, labels, etc.\n",
    "scatter_axes.set_ylim(0, 300)\n",
    "y_hist_axes.set_ylim(0, 300)\n",
    "\n",
    "scatter_axes.set(ylabel='Max offset (m)')\n",
    "scatter_axes.set(xlabel='Offset location along connector')\n",
    "x_hist_axes.set(ylabel='n')\n",
    "y_hist_axes.set(xlabel='n')\n",
    "\n",
    "x_hist_axes.axes.get_xaxis().set_ticks([])\n",
    "y_hist_axes.axes.get_yaxis().set_ticks([])\n",
    "\n",
    "scatter_axes.legend(loc='upper right')\n",
    "\n",
    "fig.tight_layout()\n",
    "\n",
    "if save == 1:\n",
    "    plt.savefig(save_path + 'sill1_max_voffs4ms_err.pdf', format='pdf')"
   ]
  },
  {
   "cell_type": "code",
   "execution_count": 16,
   "metadata": {
    "ExecuteTime": {
     "end_time": "2020-12-02T06:18:01.229042Z",
     "start_time": "2020-12-02T06:18:00.896365Z"
    },
    "code_folding": [
     0
    ],
    "scrolled": true
   },
   "outputs": [
    {
     "data": {
      "image/png": "[encoded data removed]",
      "text/plain": [
       "<Figure size 255.118x170.079 with 3 Axes>"
      ]
     },
     "metadata": {
      "needs_background": "light"
     },
     "output_type": "display_data"
    }
   ],
   "source": [
    "## minimum vertical offset\n",
    "## separate dataset: fault/no fault\n",
    "ind_f  = np.where(v_offs_min[:,7] == 1) # entries with fault\n",
    "ind_nf = np.where(v_offs_min[:,7] == 0) # entries without fault\n",
    "\n",
    "y_error_f  = [v_offs_min[ind_f,2][0],v_offs_min[ind_f,3][0]]   # error faults\n",
    "y_error_nf = [v_offs_min[ind_nf,2][0],v_offs_min[ind_nf,3][0]] # error no faults\n",
    "\n",
    "m = ['d', '.'] # marker\n",
    "ms = [5, 15] # marker size\n",
    "colour = ['royalblue', 'firebrick', 'gray'] # marker colour\n",
    "\n",
    "## figure\n",
    "fig = plt.figure(figsize=cm2inch(9,6))\n",
    "\n",
    "scatter_axes = plt.subplot2grid((3, 3), (1, 0), rowspan=2, colspan=2)\n",
    "x_hist_axes = plt.subplot2grid((3, 3), (0, 0), colspan=2)\n",
    "y_hist_axes = plt.subplot2grid((3, 3), (1, 2), rowspan=2)\n",
    "\n",
    "x_hist_axes.set_title('B. Min vertical offset', loc='left')\n",
    "\n",
    "# plot scatter and error bars of connectors without faults\n",
    "scatter_axes.scatter(v_offs_min[ind_nf,6],v_offs_min[ind_nf,1], zorder = 1, c=colour[0], marker=m[0], s=ms[0], label='no fault', linestyle = 'None') #red\n",
    "scatter_axes.errorbar(v_offs_min[ind_nf,6][0], v_offs_min[ind_nf,1][0], yerr=y_error_nf,\n",
    "            fmt='none', ecolor='k', elinewidth=1, capsize=2, capthick=1, barsabove=False, zorder=0)\n",
    "\n",
    "# plot scatter and error bars of connectors with faults\n",
    "scatter_axes.scatter(v_offs_min[ind_f,6],v_offs_min[ind_f,1], zorder = 3, c=colour[1], marker=m[1], s=ms[1], label='fault', linestyle = 'None') #red\n",
    "scatter_axes.errorbar(v_offs_min[ind_f,6][0], v_offs_min[ind_f,1][0], yerr=y_error_f,\n",
    "            fmt='none', ecolor='k', elinewidth=1, capsize=2, capthick=1, barsabove=False, zorder=2)\n",
    "\n",
    "# histograms\n",
    "x_hist_axes.hist(v_offs_min[:,6], bins=10, range=(0,1), color=colour[2], alpha=0.6)\n",
    "y_hist_axes.hist(v_offs_min[:,1], bins=range(0, 200, 25), orientation='horizontal', color=colour[2], alpha=0.6)\n",
    "\n",
    "# set axes limits, labels, etc. \n",
    "scatter_axes.set_ylim(0,200)\n",
    "y_hist_axes.set_ylim(0, 200)\n",
    "\n",
    "scatter_axes.set(ylabel='Min offset (min)')\n",
    "scatter_axes.set(xlabel='Offset location along connector')\n",
    "x_hist_axes.set(ylabel='n')\n",
    "y_hist_axes.set(xlabel='n')\n",
    "\n",
    "x_hist_axes.axes.get_xaxis().set_ticks([])\n",
    "y_hist_axes.axes.get_yaxis().set_ticks([])\n",
    "\n",
    "scatter_axes.legend(loc='upper left')\n",
    "\n",
    "fig.tight_layout()\n",
    "\n",
    "if save == 1:\n",
    "    plt.savefig(save_path + 'sill1_min_voffs_4ms_err.pdf', format='pdf')"
   ]
  }
 ],
 "metadata": {
  "kernelspec": {
   "display_name": "Python 3",
   "language": "python",
   "name": "python3"
  },
  "language_info": {
   "codemirror_mode": {
    "name": "ipython",
    "version": 3
   },
   "file_extension": ".py",
   "mimetype": "text/x-python",
   "name": "python",
   "nbconvert_exporter": "python",
   "pygments_lexer": "ipython3",
   "version": "3.8.5"
  },
  "latex_envs": {
   "LaTeX_envs_menu_present": true,
   "autoclose": false,
   "autocomplete": true,
   "bibliofile": "biblio.bib",
   "cite_by": "apalike",
   "current_citInitial": 1,
   "eqLabelWithNumbers": true,
   "eqNumInitial": 1,
   "hotkeys": {
    "equation": "Ctrl-E",
    "itemize": "Ctrl-I"
   },
   "labels_anchors": false,
   "latex_user_defs": false,
   "report_style_numbering": false,
   "user_envs_cfg": false
  }
 },
 "nbformat": 4,
 "nbformat_minor": 2
}
