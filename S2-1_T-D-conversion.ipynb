{
 "cells": [
  {
   "cell_type": "code",
   "execution_count": 5,
   "metadata": {
    "ExecuteTime": {
     "end_time": "2020-12-02T03:05:51.293401Z",
     "start_time": "2020-12-02T03:05:51.290479Z"
    }
   },
   "outputs": [],
   "source": [
    "import numpy as np\n",
    "import pandas as pd\n",
    "import matplotlib.pyplot as plt"
   ]
  },
  {
   "cell_type": "code",
   "execution_count": 6,
   "metadata": {
    "ExecuteTime": {
     "end_time": "2020-12-02T03:05:51.302715Z",
     "start_time": "2020-12-02T03:05:51.295931Z"
    },
    "code_folding": [
     0
    ]
   },
   "outputs": [],
   "source": [
    "## change font for plots\n",
    "import matplotlib\n",
    "from matplotlib import rc\n",
    "matplotlib.rcParams['pdf.fonttype'] = 42 # to import text in illustrator\n",
    "matplotlib.rcParams['ps.fonttype'] = 42\n",
    "rc('font',**{'family':'serif','serif':['Arial']})\n",
    "\n",
    "SMALL_SIZE = 8\n",
    "MEDIUM_SIZE = 10\n",
    "\n",
    "plt.rc('axes', titlesize=SMALL_SIZE)     # fontsize of the axes title\n",
    "plt.rc('axes', labelsize=MEDIUM_SIZE)    # fontsize of the x and y labels\n",
    "plt.rc('xtick', labelsize=SMALL_SIZE)    # fontsize of the tick labels\n",
    "plt.rc('ytick', labelsize=SMALL_SIZE)    # fontsize of the tick labels\n",
    "plt.rc('legend', fontsize=SMALL_SIZE)    # legend fontsize"
   ]
  },
  {
   "cell_type": "code",
   "execution_count": 7,
   "metadata": {
    "ExecuteTime": {
     "end_time": "2020-12-02T03:05:51.311346Z",
     "start_time": "2020-12-02T03:05:51.307240Z"
    },
    "code_folding": [
     0
    ]
   },
   "outputs": [],
   "source": [
    "## define cm2inch for plot size\n",
    "def cm2inch(*tupl): # cm to inch for figure size\n",
    "    inch = 2.54\n",
    "    if isinstance(tupl[0], tuple):\n",
    "        return tuple(i/inch for i in tupl[0])\n",
    "    else:\n",
    "        return tuple(i/inch for i in tupl)"
   ]
  },
  {
   "cell_type": "code",
   "execution_count": 8,
   "metadata": {
    "ExecuteTime": {
     "end_time": "2020-12-02T03:05:51.816814Z",
     "start_time": "2020-12-02T03:05:51.315653Z"
    },
    "code_folding": []
   },
   "outputs": [],
   "source": [
    "## import checkshot data from excel sheet\n",
    "input_path   = '/Users/Suppl1_T-D-conversion/checkshot_data.xlsx'\n",
    "\n",
    "toporoa      = pd.read_excel(input_path, sheet_name=0)\n",
    "briseis      = pd.read_excel(input_path, sheet_name=1)\n",
    "glencoe1     = pd.read_excel(input_path, sheet_name=2)\n",
    "chester1_st1 = pd.read_excel(input_path, sheet_name=4)\n",
    "makybe_diva1 = pd.read_excel(input_path, sheet_name=5)\n",
    "hijinx1      = pd.read_excel(input_path, sheet_name=6)\n",
    "lightfinger1 = pd.read_excel(input_path, sheet_name=7)\n",
    "nimblefoot   = pd.read_excel(input_path, sheet_name=8)"
   ]
  },
  {
   "cell_type": "code",
   "execution_count": 9,
   "metadata": {
    "ExecuteTime": {
     "end_time": "2020-12-02T03:05:51.826185Z",
     "start_time": "2020-12-02T03:05:51.819536Z"
    },
    "code_folding": []
   },
   "outputs": [],
   "source": [
    "## merge wells for specific areas\n",
    "# S1\n",
    "MD_S1  = -np.concatenate((chester1_st1['MD'].values, makybe_diva1['MD'].values, \n",
    "                        hijinx1['MD'].values, lightfinger1['MD'].values, nimblefoot['MD'].values)) # measured depth [m]\n",
    "TWT_S1 = np.concatenate((chester1_st1['TWT'].values, makybe_diva1['TWT'].values, \n",
    "                        hijinx1['TWT'].values, lightfinger1['TWT'].values, nimblefoot['TWT'].values)) # two-way-travel time [ms]\n",
    "\n",
    "# S2\n",
    "MD_S2  = -np.concatenate((toporoa['MD'].values, briseis['MD'].values, glencoe1['MD'].values)) # measured depth [m]\n",
    "TWT_S2 = np.concatenate((toporoa['TWT'].values, briseis['TWT'].values, glencoe1['TWT'].values)) # two-way-travel time [ms]"
   ]
  },
  {
   "cell_type": "code",
   "execution_count": 10,
   "metadata": {
    "ExecuteTime": {
     "end_time": "2020-12-02T03:05:51.833541Z",
     "start_time": "2020-12-02T03:05:51.827758Z"
    }
   },
   "outputs": [],
   "source": [
    "## polynomial regression\n",
    "# S1\n",
    "p_S1  = np.polyfit(TWT_S1, MD_S1, 2, full=True)\n",
    "MD_S1_fit = np.polyval(p_S1[0], TWT_S1)\n",
    "\n",
    "# S2\n",
    "p_S2  = np.polyfit(TWT_S2, MD_S2, 2, full=True)\n",
    "MD_S2_fit = np.polyval(p_S2[0], TWT_S2)"
   ]
  },
  {
   "cell_type": "code",
   "execution_count": 11,
   "metadata": {
    "ExecuteTime": {
     "end_time": "2020-12-02T03:05:51.841267Z",
     "start_time": "2020-12-02T03:05:51.837094Z"
    }
   },
   "outputs": [],
   "source": [
    "## sort data\n",
    "# S1\n",
    "TWT_S1_sort = sorted(TWT_S1)\n",
    "MD_S1_fit_sort = sorted(MD_S1_fit, reverse=True)\n",
    "MD_S1_sort = sorted(MD_S1, reverse=True)\n",
    "\n",
    "# S2\n",
    "TWT_S2_sort = sorted(TWT_S2)\n",
    "MD_S2_fit_sort = sorted(MD_S2_fit, reverse=True)\n",
    "MD_S2_sort = sorted(MD_S2, reverse=True)"
   ]
  },
  {
   "cell_type": "code",
   "execution_count": 12,
   "metadata": {
    "ExecuteTime": {
     "end_time": "2020-12-02T03:05:51.848789Z",
     "start_time": "2020-12-02T03:05:51.844363Z"
    }
   },
   "outputs": [],
   "source": [
    "## fit accuracy\n",
    "# S1\n",
    "# correlation coefficient\n",
    "correlation_matrix = np.corrcoef(MD_S1_fit_sort, MD_S1_sort) # compare MD1_sort (depth in m from regression), with MD_sel_sort (depth in m from checkshots)\n",
    "correlation_xy = correlation_matrix[0,1]\n",
    "r_squared_S1 = correlation_xy**2\n",
    "\n",
    "# Root Mean Square Error (RMSE)\n",
    "RMSE_S1 = np.sqrt(((MD_S1 - MD_S1_fit) ** 2).mean())\n",
    "\n",
    "# S2\n",
    "# correlation coefficient\n",
    "correlation_matrix = np.corrcoef(MD_S2_fit_sort, MD_S2_sort) # compare MD2_sort (depth in m from regression), with MD_sel_sort (depth in m from checkshots)\n",
    "correlation_xy = correlation_matrix[0,1]\n",
    "r_squared_S2 = correlation_xy**2\n",
    "\n",
    "# Root Mean Square Error (RMSE)\n",
    "RMSE_S2 = np.sqrt(((MD_S2 - MD_S2_fit) ** 2).mean())"
   ]
  },
  {
   "cell_type": "code",
   "execution_count": 13,
   "metadata": {
    "ExecuteTime": {
     "end_time": "2020-12-02T03:05:51.855389Z",
     "start_time": "2020-12-02T03:05:51.850828Z"
    }
   },
   "outputs": [],
   "source": [
    "## calculate time-depth conversion from 1000-5500 [m] depth\n",
    "\n",
    "TWT      = np.linspace(1500, 8000, 1500)\n",
    "depth_S1 = np.polyval(p_S1[0], TWT)\n",
    "depth_S2 = np.polyval(p_S2[0], TWT)"
   ]
  },
  {
   "cell_type": "code",
   "execution_count": 14,
   "metadata": {
    "ExecuteTime": {
     "end_time": "2020-12-02T03:05:53.146174Z",
     "start_time": "2020-12-02T03:05:51.858514Z"
    },
    "code_folding": [],
    "scrolled": true
   },
   "outputs": [
    {
     "data": {
      "image/png": "[encoded data removed]",
      "text/plain": [
       "<Figure size 524.409x283.465 with 2 Axes>"
      ]
     },
     "metadata": {
      "needs_background": "light"
     },
     "output_type": "display_data"
    }
   ],
   "source": [
    "## plot\n",
    "\n",
    "save_path = '/Users/Suppl1_T-D-conversion/'\n",
    "\n",
    "fig1, axs = plt.subplots(1,2, figsize=cm2inch(18.5,10))\n",
    "\n",
    "# S1\n",
    "ax=axs[0]\n",
    "ax.scatter(chester1_st1['TWT'].values, chester1_st1['MD'].values, \n",
    "           facecolor='b', marker = 'o', s=20, alpha=0.5, edgecolors='none', label='Chester1-ST1')\n",
    "ax.scatter(hijinx1['TWT'].values, hijinx1['MD'].values, \n",
    "           facecolor='r', marker = 'o', s=20, alpha=0.5, edgecolors='none', label='Hijinx-1')\n",
    "ax.scatter(nimblefoot['TWT'].values, nimblefoot['MD'].values, \n",
    "           facecolor='k', marker = 'o', s=20, alpha=0.5, edgecolors='none', label='Nimblefoot-1')\n",
    "ax.scatter(makybe_diva1['TWT'].values, makybe_diva1['MD'].values, \n",
    "           facecolor='g', marker = 'o', s=20, alpha=0.5, edgecolors='none', label='Makybe-Diva-1')\n",
    "ax.scatter(lightfinger1['TWT'].values, lightfinger1['MD'].values, \n",
    "           facecolor='orange', marker = 'o', s=20, alpha=0.5, edgecolors='none', label='Lightfinger-1')\n",
    "\n",
    "ax.plot(TWT, -depth_S1, 'r--', lw=2, label = 'polynomial fit')\n",
    "\n",
    "ax.fill_between(np.array((0,5000)), 3865, 4838,\n",
    "                color='r',linewidth=0, alpha=0.3, zorder=0, label='area of interest')\n",
    "\n",
    "\n",
    "# annotation\n",
    "ax.text(200, 350, '$ 3.466e^{-4}x^2 - 4.559e^{-1}x + 1.115e^3 $', fontsize=8)\n",
    "ax.text(200, 650, 'R = ' + str(\"%.3f\" % r_squared_S1), fontsize=9)\n",
    "\n",
    "ax.set_ylim(0,5500)\n",
    "ax.set_xlim(0,5000)\n",
    "\n",
    "ax.set(ylabel='depth [m]')\n",
    "ax.set(xlabel='TWT [ms]')\n",
    "ax.set_title('a. Sill 1', size=12, x=0.1) # Title\n",
    "ax.legend(loc='lower left')\n",
    "\n",
    "ax.set_ylim(ax.get_ylim()[::-1])        # invert the axis\n",
    "ax.xaxis.tick_top()                     # and move the X-Axis \n",
    "ax.xaxis.set_label_position(\"top\")\n",
    "\n",
    "\n",
    "\n",
    "\n",
    "# S2\n",
    "ax=axs[1]\n",
    "\n",
    "ax.scatter(briseis['TWT'].values, briseis['MD'].values, \n",
    "           facecolor='g', marker = 'o', s=20, alpha=0.5, edgecolors='none', label='Briseis-1')\n",
    "ax.scatter(glencoe1['TWT'].values, glencoe1['MD'].values, \n",
    "           facecolor='orange', marker = 'o', s=20, alpha=0.5, edgecolors='none', label='Glencoe-1')\n",
    "ax.scatter(toporoa['TWT'].values, toporoa['MD'].values, \n",
    "           facecolor='b', marker = 'o', s=20, alpha=0.5, edgecolors='none', label='Toporoa-1')\n",
    "\n",
    "ax.plot(TWT, -depth_S2, 'r--', lw=2, label = 'polynomial fit')\n",
    "\n",
    "ax.fill_between(np.array((0,5000)), 3303, 4029,\n",
    "                color='r',linewidth=0, alpha=0.3, zorder=0, label='area of interest')\n",
    "\n",
    "# annotation\n",
    "ax.text(200, 350, '$ 2.106e^{-4}x^2 + 8.580e^{-2}x + 5.761e^2 $', fontsize=8)\n",
    "ax.text(200, 650, 'R = ' + str(\"%.3f\" % r_squared_S2), fontsize=9)\n",
    "\n",
    "ax.set_ylim(0,5500)\n",
    "ax.set_xlim(0,5000)\n",
    "\n",
    "ax.set(xlabel='TWT [ms]')\n",
    "ax.set(ylabel='depth [m]')\n",
    "ax.set_title('b. Sill 2', size=12, x=0.1) # Title\n",
    "ax.legend(loc='lower left')\n",
    "\n",
    "ax.set_ylim(ax.get_ylim()[::-1])        # invert the axis\n",
    "ax.xaxis.tick_top()                    # and move the X-Axis \n",
    "ax.xaxis.set_label_position(\"top\")\n",
    "\n",
    "fig1.tight_layout()\n",
    "\n",
    "# safe figure\n",
    "plt.savefig(save_path + 'TD_conv1.pdf', format='pdf', transparent = True)"
   ]
  }
 ],
 "metadata": {
  "kernelspec": {
   "display_name": "Python 3",
   "language": "python",
   "name": "python3"
  },
  "language_info": {
   "codemirror_mode": {
    "name": "ipython",
    "version": 3
   },
   "file_extension": ".py",
   "mimetype": "text/x-python",
   "name": "python",
   "nbconvert_exporter": "python",
   "pygments_lexer": "ipython3",
   "version": "3.8.5"
  },
  "latex_envs": {
   "LaTeX_envs_menu_present": true,
   "autoclose": false,
   "autocomplete": true,
   "bibliofile": "biblio.bib",
   "cite_by": "apalike",
   "current_citInitial": 1,
   "eqLabelWithNumbers": true,
   "eqNumInitial": 1,
   "hotkeys": {
    "equation": "Ctrl-E",
    "itemize": "Ctrl-I"
   },
   "labels_anchors": false,
   "latex_user_defs": false,
   "report_style_numbering": false,
   "user_envs_cfg": false
  }
 },
 "nbformat": 4,
 "nbformat_minor": 4
}
